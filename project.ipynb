{
 "cells": [
  {
   "cell_type": "code",
   "execution_count": 21,
   "id": "c8644936-8a36-4d53-afb5-ed04fddc4f48",
   "metadata": {},
   "outputs": [],
   "source": [
    "import requests\n",
    "from bs4 import BeautifulSoup\n",
    "from urllib.request import urlopen as uReq\n",
    "import logging\n",
    "import os "
   ]
  },
  {
   "cell_type": "code",
   "execution_count": 22,
   "id": "e0d129ba-6a39-4ea1-af1c-7b072d944704",
   "metadata": {},
   "outputs": [],
   "source": [
    "save_dir = \"images/\"\n",
    "if not os.path.exists(save_dir):\n",
    "    os.makedirs(save_dir)"
   ]
  },
  {
   "cell_type": "code",
   "execution_count": 23,
   "id": "2810fde9-d290-4cdc-92fc-ea91c3ab412f",
   "metadata": {},
   "outputs": [],
   "source": [
    "query = \"ujjwal agarwal\"\n",
    "response = requests.get(f\"https://www.google.com/search?q=ujjwal+agarwal,+iimt&client=avast-a-1&sca_esv=571690524&tbm=isch&sxsrf=AM9HkKnMW2OH33Du8QmeRsvdS0IYh3Pj2w:1696753728152&source=lnms&sa=X&ved=2ahUKEwiMjPOZhOaBAxVa2TgGHbokCwcQ_AUoAnoECAEQBA&biw=1366&bih=625&dpr=1\")"
   ]
  },
  {
   "cell_type": "code",
   "execution_count": 24,
   "id": "e9f06b84-8b7d-4b73-99fa-cf9111107426",
   "metadata": {},
   "outputs": [],
   "source": [
    "soup = BeautifulSoup(response.content,'html.parser')"
   ]
  },
  {
   "cell_type": "code",
   "execution_count": 25,
   "id": "d61a464b-5228-463d-b138-967e40bb82b2",
   "metadata": {},
   "outputs": [],
   "source": [
    "images_tags = soup.find_all(\"img\")"
   ]
  },
  {
   "cell_type": "code",
   "execution_count": 26,
   "id": "5d58f5be-057d-40b6-a4db-0acb21de25d5",
   "metadata": {},
   "outputs": [
    {
     "data": {
      "text/plain": [
       "21"
      ]
     },
     "execution_count": 26,
     "metadata": {},
     "output_type": "execute_result"
    }
   ],
   "source": [
    "len(images_tags)"
   ]
  },
  {
   "cell_type": "code",
   "execution_count": 27,
   "id": "6131de21-c508-49a9-8b98-e0001f7c3ad4",
   "metadata": {},
   "outputs": [],
   "source": [
    "del images_tags[0]"
   ]
  },
  {
   "cell_type": "code",
   "execution_count": 29,
   "id": "55cd4ebe-ae90-429e-b509-064f7da553af",
   "metadata": {},
   "outputs": [],
   "source": [
    "img_data_mongo = []\n",
    "for i in images_tags:\n",
    "    image_url = i['src']\n",
    "    image_data = requests.get(image_url).content\n",
    "    mydict = {\"index\":image_url , \"image\":image_data}\n",
    "    img_data_mongo.append(mydict)\n",
    "    with open(os.path.join(save_dir,f\"{query}_{images_tags.index(i)}.jpg\"),\"wb\") as f:\n",
    "        f.write(image_data)"
   ]
  },
  {
   "cell_type": "code",
   "execution_count": null,
   "id": "755e6318-0461-4f59-bd78-3c41b85a465b",
   "metadata": {},
   "outputs": [],
   "source": []
  },
  {
   "cell_type": "code",
   "execution_count": null,
   "id": "b22ad75c-9462-4023-83cc-6d7695a42b62",
   "metadata": {},
   "outputs": [],
   "source": []
  }
 ],
 "metadata": {
  "kernelspec": {
   "display_name": "Python 3 (ipykernel)",
   "language": "python",
   "name": "python3"
  },
  "language_info": {
   "codemirror_mode": {
    "name": "ipython",
    "version": 3
   },
   "file_extension": ".py",
   "mimetype": "text/x-python",
   "name": "python",
   "nbconvert_exporter": "python",
   "pygments_lexer": "ipython3",
   "version": "3.10.8"
  }
 },
 "nbformat": 4,
 "nbformat_minor": 5
}
